{
  "cells": [
    {
      "cell_type": "markdown",
      "metadata": {
        "id": "yP8O2Jxkpm87",
        "colab_type": "text"
      },
      "source": [
        "# 英文をちゃんとキャピタライズしたい"
      ]
    },
    {
      "cell_type": "markdown",
      "metadata": {
        "id": "pzdRx4qzqIZD",
        "colab_type": "text"
      },
      "source": [
        "ある英語のチャットボットを試した時、以下のように出力してくるものがありました。<br>\n",
        "> that ' s cool . i like watching sports . do you have any hobbies besides tennis ?<br>\n",
        "\n",
        "人間なら特に問題なく読めるのですが、これを機械翻訳に連携させた時に困ったことがありました。翻訳の品質が落ちてしまうものがあったのです。ちゃんとキャピタライズさせてから入力したほうがはるかに翻訳品質がよかった。\n",
        "\n",
        "というわけで、キャピタライズする関数を書いてみました。\n"
      ]
    },
    {
      "cell_type": "code",
      "metadata": {
        "id": "KldckSompYOJ",
        "colab_type": "code",
        "outputId": "c423448f-4aa3-4711-a6ee-045a4b84a572",
        "colab": {
          "base_uri": "https://localhost:8080/",
          "height": 34
        }
      },
      "source": [
        "import re\n",
        "\n",
        "def upperEnd(obj):\n",
        "    '''引数の末尾を大文字にする'''\n",
        "    return obj.group()[:-1] + obj.group()[-1].upper()\n",
        "\n",
        "def capitalize(text):\n",
        "    '''文をキャピタライズする'''\n",
        "    text = re.sub(r'\\s*([\\.?!,])', r'\\1', text)     # 句読点の前の空白を削除する\n",
        "    text = re.sub(r\"\\s'\\s\", \"'\", text)            # 'の前後の空白を削除する\n",
        "    text = re.sub(r'[\\.?!:]\\s+.', upperEnd, text) # 句点の後の最初の文字を大文字にする\n",
        "    text = text[0].upper() + text[1:]           # 文の最初の文字を大文字にする\n",
        "    return text\n",
        "\n",
        "print(capitalize(\"that ' s cool . i like watching sports . do you have any hobbies besides tennis ?\"))"
      ],
      "execution_count": 0,
      "outputs": [
        {
          "output_type": "stream",
          "text": [
            "That's cool. I like watching sports. Do you have any hobbies besides tennis?\n"
          ],
          "name": "stdout"
        }
      ]
    },
    {
      "cell_type": "markdown",
      "metadata": {
        "id": "44M64bANvgoi",
        "colab_type": "text"
      },
      "source": [
        "以上です。何かの参考になれば"
      ]
    }
  ],
  "metadata": {
    "colab": {
      "name": "Capitalize.ipynb",
      "provenance": [],
      "collapsed_sections": []
    },
    "kernelspec": {
      "name": "python3",
      "display_name": "Python 3"
    }
  },
  "nbformat": 4,
  "nbformat_minor": 0
}